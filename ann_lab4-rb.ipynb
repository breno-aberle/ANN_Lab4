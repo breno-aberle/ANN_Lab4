{
 "cells": [
  {
   "cell_type": "markdown",
   "metadata": {
    "toc": true
   },
   "source": [
    "<h1>Table of Contents<span class=\"tocSkip\"></span></h1>\n",
    "<div class=\"toc\"><ul class=\"toc-item\"><li><ul class=\"toc-item\"><li><span><a href=\"#Optional:--Explore-Dataset\" data-toc-modified-id=\"Optional:--Explore-Dataset-0.1\"><span class=\"toc-item-num\">0.1&nbsp;&nbsp;</span>Optional:  Explore Dataset</a></span></li></ul></li><li><span><a href=\"#restricted-boltzmann-machine\" data-toc-modified-id=\"restricted-boltzmann-machine-1\"><span class=\"toc-item-num\">1&nbsp;&nbsp;</span>restricted boltzmann machine</a></span><ul class=\"toc-item\"><li><span><a href=\"#Vary-epochs\" data-toc-modified-id=\"Vary-epochs-1.1\"><span class=\"toc-item-num\">1.1&nbsp;&nbsp;</span>Vary epochs</a></span></li><li><span><a href=\"#Probability-Input\" data-toc-modified-id=\"Probability-Input-1.2\"><span class=\"toc-item-num\">1.2&nbsp;&nbsp;</span>Probability Input</a></span></li><li><span><a href=\"#Vary-hidden-layer-size\" data-toc-modified-id=\"Vary-hidden-layer-size-1.3\"><span class=\"toc-item-num\">1.3&nbsp;&nbsp;</span>Vary hidden layer size</a></span></li><li><span><a href=\"#Examinate-Outcome\" data-toc-modified-id=\"Examinate-Outcome-1.4\"><span class=\"toc-item-num\">1.4&nbsp;&nbsp;</span>Examinate Outcome</a></span></li></ul></li><li><span><a href=\"#deep--belief-net\" data-toc-modified-id=\"deep--belief-net-2\"><span class=\"toc-item-num\">2&nbsp;&nbsp;</span>deep- belief net</a></span><ul class=\"toc-item\"><li><span><a href=\"#Two-stack-RBM\" data-toc-modified-id=\"Two-stack-RBM-2.1\"><span class=\"toc-item-num\">2.1&nbsp;&nbsp;</span>Two stack RBM</a></span></li></ul></li><li><span><a href=\"#greedy-layer-wise-training\" data-toc-modified-id=\"greedy-layer-wise-training-3\"><span class=\"toc-item-num\">3&nbsp;&nbsp;</span>greedy layer-wise training</a></span></li><li><span><a href=\"#fine-tune-wake-sleep-training\" data-toc-modified-id=\"fine-tune-wake-sleep-training-4\"><span class=\"toc-item-num\">4&nbsp;&nbsp;</span>fine-tune wake-sleep training</a></span></li></ul></div>"
   ]
  },
  {
   "cell_type": "markdown",
   "metadata": {},
   "source": [
    "**Imports**"
   ]
  },
  {
   "cell_type": "code",
   "execution_count": 1,
   "metadata": {
    "ExecuteTime": {
     "end_time": "2020-02-21T11:10:35.433761Z",
     "start_time": "2020-02-21T11:10:35.249126Z"
    }
   },
   "outputs": [],
   "source": [
    "# Re-import packages if they change\n",
    "%load_ext autoreload\n",
    "%autoreload 2\n",
    "\n",
    "import struct\n",
    "import matplotlib.animation as animation\n",
    "\n",
    "import matplotlib.pyplot as plt \n",
    "import tqdm\n",
    "import matplotlib.image as mpimg \n",
    "from datetime import date, datetime\n",
    "\n",
    "from util import *\n",
    "from rbm import RestrictedBoltzmannMachine \n",
    "from dbn import DeepBeliefNet"
   ]
  },
  {
   "cell_type": "markdown",
   "metadata": {},
   "source": [
    "**Declare image-size and load dataset**"
   ]
  },
  {
   "cell_type": "code",
   "execution_count": 2,
   "metadata": {
    "ExecuteTime": {
     "end_time": "2020-02-21T11:10:37.757657Z",
     "start_time": "2020-02-21T11:10:35.509604Z"
    }
   },
   "outputs": [],
   "source": [
    "image_size = [28,28]\n",
    "train_imgs,train_lbls,test_imgs,test_lbls = read_mnist(dim=image_size, n_train=60000, n_test=10000)"
   ]
  },
  {
   "cell_type": "markdown",
   "metadata": {
    "heading_collapsed": true
   },
   "source": [
    "### Optional:  Explore Dataset"
   ]
  },
  {
   "cell_type": "code",
   "execution_count": 3,
   "metadata": {
    "ExecuteTime": {
     "end_time": "2020-02-21T11:10:38.202810Z",
     "start_time": "2020-02-21T11:10:37.760985Z"
    },
    "hidden": true
   },
   "outputs": [
    {
     "data": {
      "text/plain": [
       "<matplotlib.legend.Legend at 0x7f3e94197080>"
      ]
     },
     "execution_count": 3,
     "metadata": {},
     "output_type": "execute_result"
    },
    {
     "data": {
      "image/png": "[encoded data removed]",
      "text/plain": [
       "<Figure size 432x288 with 1 Axes>"
      ]
     },
     "metadata": {
      "needs_background": "light"
     },
     "output_type": "display_data"
    }
   ],
   "source": [
    "# Distribution of Classes in training and test \n",
    "plt.hist(np.where(train_lbls == 1)[1], label='train')\n",
    "plt.hist(np.where(test_lbls == 1)[1], label='test')\n",
    "plt.legend(loc = 'center left')"
   ]
  },
  {
   "cell_type": "code",
   "execution_count": 4,
   "metadata": {
    "ExecuteTime": {
     "end_time": "2020-02-21T11:10:41.583556Z",
     "start_time": "2020-02-21T11:10:38.207118Z"
    },
    "hidden": true
   },
   "outputs": [
    {
     "data": {
      "image/png": "[encoded data removed]",
      "text/plain": [
       "<Figure size 1440x1440 with 10 Axes>"
      ]
     },
     "metadata": {
      "needs_background": "light"
     },
     "output_type": "display_data"
    }
   ],
   "source": [
    "#Vizualising random images\n",
    "fig, axs = plt.subplots(1,10, figsize=(20,20))\n",
    "for i in range(10):\n",
    "    axs[i].set_title('Image {:d}'.format(i))\n",
    "    axs[i].imshow(train_imgs[i].reshape((28,28)))\n",
    "plt.show()"
   ]
  },
  {
   "cell_type": "code",
   "execution_count": 5,
   "metadata": {
    "ExecuteTime": {
     "end_time": "2020-02-21T11:10:41.788345Z",
     "start_time": "2020-02-21T11:10:41.596391Z"
    },
    "hidden": true
   },
   "outputs": [
    {
     "name": "stdout",
     "output_type": "stream",
     "text": [
      "Image shape:  (784,)\n",
      "Max Image value:  1.0\n",
      "Min Image value:  0.0\n",
      "Number of training samples:  60000\n",
      "Number of test samples:  10000\n"
     ]
    }
   ],
   "source": [
    "# Image shape\n",
    "print(\"Image shape: \", train_imgs[0].shape)\n",
    "print(\"Max Image value: \", np.max(train_imgs))\n",
    "print(\"Min Image value: \", np.min(train_imgs))\n",
    "# print('Unique Image values: ', np.unique(train_imgs))  # Input not only zero and 1\n",
    "print(\"Number of training samples: \", train_imgs.shape[0])\n",
    "print(\"Number of test samples: \", test_imgs.shape[0])"
   ]
  },
  {
   "cell_type": "code",
   "execution_count": 6,
   "metadata": {
    "ExecuteTime": {
     "end_time": "2020-02-21T11:10:41.878311Z",
     "start_time": "2020-02-21T11:10:41.796349Z"
    },
    "hidden": true
   },
   "outputs": [
    {
     "data": {
      "text/plain": [
       "array([   17,    31,    41, ..., 59989, 59995, 59999])"
      ]
     },
     "execution_count": 6,
     "metadata": {},
     "output_type": "execute_result"
    }
   ],
   "source": [
    "label = 8\n",
    "idx = np.where(np.where(train_lbls == 1)[1] == label)\n",
    "idx_label = np.where(train_lbls == 1)[0][idx]\n",
    "idx_label"
   ]
  },
  {
   "cell_type": "markdown",
   "metadata": {},
   "source": [
    "## restricted boltzmann machine"
   ]
  },
  {
   "cell_type": "markdown",
   "metadata": {},
   "source": [
    "<div class=\"alert alert-note\">\n",
    "<b>Task: </b> \n",
    "Implement an RBM for recognisisng MNIST images\n",
    "   \n",
    "* with binary stochatic units\n",
    "* train with a contrastive divergence algorithm $CD_1$\n",
    "* start with 500 units\n",
    "</div>"
   ]
  },
  {
   "cell_type": "markdown",
   "metadata": {},
   "source": [
    "<div class=\"alert alert-success\">\n",
    "<b>Vary number of epochs</b>\n",
    "    \n",
    "* loss starts quite high with 11 \n",
    "* converges to around 1.9\n",
    "* doesn't change anymore after 8 epochs\n",
    "\n",
    "<b>Compare binary input and probability input</b>\n",
    "    \n",
    "* a little bis higher with probabilities, but pretty similar\n",
    "\n",
    "<b>Effect of hidden layer size</b>\n",
    "    \n",
    "* with 200 units loss starts higher with 33, but decrease also to 2.1\n",
    "* loss decreases till 5.3 \n",
    "\n",
    "<b>Examine outcomes</b>\n",
    "    \n",
    "* rf doesn't change anymore after 10 epochs\n",
    "* parts of difits are visible in rf\n",
    "</div>"
   ]
  },
  {
   "cell_type": "markdown",
   "metadata": {},
   "source": [
    "<div class=\"alert alert-danger\">\n",
    "<b>Questions</b> \n",
    "\n",
    "</div>"
   ]
  },
  {
   "cell_type": "markdown",
   "metadata": {
    "heading_collapsed": true
   },
   "source": [
    "### Vary epochs"
   ]
  },
  {
   "cell_type": "code",
   "execution_count": 7,
   "metadata": {
    "ExecuteTime": {
     "end_time": "2020-02-21T11:32:52.424417Z",
     "start_time": "2020-02-21T11:10:41.884952Z"
    },
    "hidden": true
   },
   "outputs": [
    {
     "name": "stdout",
     "output_type": "stream",
     "text": [
      "\n",
      "Starting a Restricted Boltzmann Machine..\n",
      "Trained for 60000 iterations\n",
      "learning CD1\n"
     ]
    },
    {
     "data": {
      "application/vnd.jupyter.widget-view+json": {
       "model_id": "e35699b19aa74ec283da0d62b94c6e16",
       "version_major": 2,
       "version_minor": 0
      },
      "text/plain": [
       "HBox(children=(IntProgress(value=0, max=60000), HTML(value='')))"
      ]
     },
     "metadata": {},
     "output_type": "display_data"
    },
    {
     "name": "stdout",
     "output_type": "stream",
     "text": [
      "iteration=      0 recon_loss=6.5681\n",
      "iteration=   5000 recon_loss=2.2146\n",
      "iteration=  10000 recon_loss=2.1286\n",
      "iteration=  15000 recon_loss=2.1136\n",
      "iteration=  20000 recon_loss=2.0816\n",
      "iteration=  25000 recon_loss=2.1046\n",
      "iteration=  30000 recon_loss=2.1175\n",
      "iteration=  35000 recon_loss=2.1042\n",
      "iteration=  40000 recon_loss=2.0901\n",
      "iteration=  45000 recon_loss=2.0428\n",
      "iteration=  50000 recon_loss=2.0393\n",
      "iteration=  55000 recon_loss=2.0646\n",
      "\n",
      "\n",
      "Starting a Restricted Boltzmann Machine..\n",
      "Trained for 90000 iterations\n",
      "learning CD1\n"
     ]
    },
    {
     "data": {
      "application/vnd.jupyter.widget-view+json": {
       "model_id": "b33cdbca901148158df18b4dba44e156",
       "version_major": 2,
       "version_minor": 0
      },
      "text/plain": [
       "HBox(children=(IntProgress(value=0, max=90000), HTML(value='')))"
      ]
     },
     "metadata": {},
     "output_type": "display_data"
    },
    {
     "name": "stdout",
     "output_type": "stream",
     "text": [
      "iteration=      0 recon_loss=6.6791\n",
      "iteration=   5000 recon_loss=2.2341\n",
      "iteration=  10000 recon_loss=2.0887\n",
      "iteration=  15000 recon_loss=2.0805\n",
      "iteration=  20000 recon_loss=2.0427\n",
      "iteration=  25000 recon_loss=2.0731\n",
      "iteration=  30000 recon_loss=2.0887\n",
      "iteration=  35000 recon_loss=2.0147\n",
      "iteration=  40000 recon_loss=2.0205\n",
      "iteration=  45000 recon_loss=1.9879\n",
      "iteration=  50000 recon_loss=1.9756\n",
      "iteration=  55000 recon_loss=1.9925\n",
      "iteration=  60000 recon_loss=2.0139\n",
      "iteration=  65000 recon_loss=2.0124\n",
      "iteration=  70000 recon_loss=1.9742\n",
      "iteration=  75000 recon_loss=2.0295\n",
      "iteration=  80000 recon_loss=2.0003\n",
      "iteration=  85000 recon_loss=2.0018\n",
      "\n"
     ]
    }
   ],
   "source": [
    "batch_size = 10\n",
    "epochs = np.arange(10, 20, 5)\n",
    "#n_iterations_basic = int(train_imgs.shape[0] / batch_size * i)\n",
    "for i in epochs:\n",
    "    print(\"\\nStarting a Restricted Boltzmann Machine..\")\n",
    "    # Changed from 10\n",
    "    rbm = RestrictedBoltzmannMachine(\n",
    "        ndim_visible=image_size[0] * image_size[1],\n",
    "        ndim_hidden=500,\n",
    "        is_bottom=True,\n",
    "        image_size=image_size,\n",
    "        is_top=False,\n",
    "        n_labels=10,\n",
    "        batch_size=batch_size,\n",
    "    )\n",
    "    # each epoch corresponds to a full swipe through a training set divided into mini-batches\n",
    "    n_iterations = int(train_imgs.shape[0] / batch_size * i)\n",
    "    print(\"Trained for {:d} iterations\".format(n_iterations))\n",
    "    rbm.cd1(visible_trainset=train_imgs, n_iterations=n_iterations)"
   ]
  },
  {
   "cell_type": "markdown",
   "metadata": {},
   "source": [
    "### Probability Input"
   ]
  },
  {
   "cell_type": "code",
   "execution_count": 12,
   "metadata": {
    "ExecuteTime": {
     "end_time": "2020-02-21T11:49:14.476665Z",
     "start_time": "2020-02-21T11:44:34.514385Z"
    }
   },
   "outputs": [
    {
     "name": "stdout",
     "output_type": "stream",
     "text": [
      "\n",
      "Starting a Restricted Boltzmann Machine..\n",
      "Results saved in folder:  2020-02-21_11-44-34\n",
      "Trained for 30000 iterations\n",
      "learning CD1\n"
     ]
    },
    {
     "data": {
      "application/vnd.jupyter.widget-view+json": {
       "model_id": "026c3f17efaa461783255167b922149b",
       "version_major": 2,
       "version_minor": 0
      },
      "text/plain": [
       "HBox(children=(IntProgress(value=0, max=30000), HTML(value='')))"
      ]
     },
     "metadata": {},
     "output_type": "display_data"
    },
    {
     "name": "stdout",
     "output_type": "stream",
     "text": [
      "iteration=      0 recon_loss=6.5295\n",
      "iteration=   5000 recon_loss=2.3416\n",
      "iteration=  10000 recon_loss=2.1993\n",
      "iteration=  15000 recon_loss=2.3032\n",
      "iteration=  20000 recon_loss=2.2364\n",
      "iteration=  25000 recon_loss=2.2648\n",
      "\n"
     ]
    }
   ],
   "source": [
    "print(\"\\nStarting a Restricted Boltzmann Machine..\")\n",
    "exp_time = datetime.now().strftime('%Y-%m-%d_%H-%M-%S')\n",
    "print(\"Results saved in folder: \",exp_time )\n",
    "os.makedirs(exp_time)\n",
    "\n",
    "rbm = RestrictedBoltzmannMachine(\n",
    "        ndim_visible=image_size[0] * image_size[1],\n",
    "        ndim_hidden=500,\n",
    "        is_bottom=True,\n",
    "        image_size=image_size,\n",
    "        is_top=False,\n",
    "        n_labels=10,\n",
    "        batch_size=batch_size,\n",
    "    )\n",
    "n_iterations = 30000\n",
    "print(\"Trained for {:d} iterations\".format(n_iterations))\n",
    "rbm.cd1(visible_trainset=train_imgs, n_iterations=n_iterations, binary_vis=False, img_dir=exp_time)"
   ]
  },
  {
   "cell_type": "markdown",
   "metadata": {},
   "source": [
    "### Vary hidden layer size"
   ]
  },
  {
   "cell_type": "code",
   "execution_count": 14,
   "metadata": {
    "ExecuteTime": {
     "end_time": "2020-02-21T12:48:56.075736Z",
     "start_time": "2020-02-21T11:53:59.200125Z"
    }
   },
   "outputs": [
    {
     "name": "stderr",
     "output_type": "stream",
     "text": [
      "[autoreload of dbn failed: Traceback (most recent call last):\n",
      "  File \"/opt/conda/lib/python3.6/site-packages/IPython/extensions/autoreload.py\", line 245, in check\n",
      "    superreload(m, reload, self.old_objects)\n",
      "  File \"/opt/conda/lib/python3.6/site-packages/IPython/extensions/autoreload.py\", line 434, in superreload\n",
      "    module = reload(module)\n",
      "  File \"/opt/conda/lib/python3.6/imp.py\", line 315, in reload\n",
      "    return importlib.reload(module)\n",
      "  File \"/opt/conda/lib/python3.6/importlib/__init__.py\", line 166, in reload\n",
      "    _bootstrap._exec(spec, module)\n",
      "  File \"<frozen importlib._bootstrap>\", line 618, in _exec\n",
      "  File \"<frozen importlib._bootstrap_external>\", line 674, in exec_module\n",
      "  File \"<frozen importlib._bootstrap_external>\", line 781, in get_code\n",
      "  File \"<frozen importlib._bootstrap_external>\", line 741, in source_to_code\n",
      "  File \"<frozen importlib._bootstrap>\", line 219, in _call_with_frames_removed\n",
      "  File \"/workspace/development/ANN_Lab4/dbn.py\", line 151\n",
      "    self.rbm_stack[\"hid--pen\"].cd1(visible_trainset=hid_trainset, n_iterations=n_iterations, img_dir)\n",
      "                                                                                            ^\n",
      "SyntaxError: positional argument follows keyword argument\n",
      "]\n"
     ]
    },
    {
     "name": "stdout",
     "output_type": "stream",
     "text": [
      "Results saved in folder:  2020-02-21_11-53-59\n",
      "\n",
      "Starting a Restricted Boltzmann Machine..\n",
      "Trained for 90000 iterations\n",
      "learning CD1\n"
     ]
    },
    {
     "data": {
      "application/vnd.jupyter.widget-view+json": {
       "model_id": "0064ba6dcec64d13920b878791b012e6",
       "version_major": 2,
       "version_minor": 0
      },
      "text/plain": [
       "HBox(children=(IntProgress(value=0, max=90000), HTML(value='')))"
      ]
     },
     "metadata": {},
     "output_type": "display_data"
    },
    {
     "name": "stdout",
     "output_type": "stream",
     "text": [
      "iteration=      0 recon_loss=33.7561\n",
      "iteration=   5000 recon_loss=2.3282\n",
      "iteration=  10000 recon_loss=2.1701\n",
      "iteration=  15000 recon_loss=2.1428\n",
      "iteration=  20000 recon_loss=2.1826\n",
      "iteration=  25000 recon_loss=2.1140\n",
      "iteration=  30000 recon_loss=2.2397\n",
      "iteration=  35000 recon_loss=2.3066\n",
      "iteration=  40000 recon_loss=2.1319\n",
      "iteration=  45000 recon_loss=2.1368\n",
      "iteration=  50000 recon_loss=2.1004\n",
      "iteration=  55000 recon_loss=2.0985\n",
      "iteration=  60000 recon_loss=2.1849\n",
      "iteration=  65000 recon_loss=2.1146\n",
      "iteration=  70000 recon_loss=2.0906\n",
      "iteration=  75000 recon_loss=2.1915\n",
      "iteration=  80000 recon_loss=2.0953\n",
      "iteration=  85000 recon_loss=2.0443\n",
      "\n",
      "Results saved in folder:  2020-02-21_12-09-35\n",
      "\n",
      "Starting a Restricted Boltzmann Machine..\n",
      "Trained for 90000 iterations\n",
      "learning CD1\n"
     ]
    },
    {
     "data": {
      "application/vnd.jupyter.widget-view+json": {
       "model_id": "de7595d504554b219f1cc16ffd376979",
       "version_major": 2,
       "version_minor": 0
      },
      "text/plain": [
       "HBox(children=(IntProgress(value=0, max=90000), HTML(value='')))"
      ]
     },
     "metadata": {},
     "output_type": "display_data"
    },
    {
     "name": "stdout",
     "output_type": "stream",
     "text": [
      "iteration=      0 recon_loss=17.9898\n",
      "iteration=   5000 recon_loss=2.2538\n",
      "iteration=  10000 recon_loss=2.1483\n",
      "iteration=  15000 recon_loss=2.0775\n",
      "iteration=  20000 recon_loss=2.0667\n",
      "iteration=  25000 recon_loss=2.0987\n",
      "iteration=  30000 recon_loss=2.0804\n",
      "iteration=  35000 recon_loss=2.1056\n",
      "iteration=  40000 recon_loss=2.0463\n",
      "iteration=  45000 recon_loss=2.0221\n",
      "iteration=  50000 recon_loss=2.0364\n",
      "iteration=  55000 recon_loss=2.0467\n",
      "iteration=  60000 recon_loss=2.1377\n",
      "iteration=  65000 recon_loss=2.0247\n",
      "iteration=  70000 recon_loss=2.0259\n",
      "iteration=  75000 recon_loss=2.0317\n",
      "iteration=  80000 recon_loss=1.9885\n",
      "iteration=  85000 recon_loss=2.0781\n",
      "\n",
      "Results saved in folder:  2020-02-21_12-19-26\n",
      "\n",
      "Starting a Restricted Boltzmann Machine..\n",
      "Trained for 90000 iterations\n",
      "learning CD1\n"
     ]
    },
    {
     "data": {
      "application/vnd.jupyter.widget-view+json": {
       "model_id": "72bda108bfba4665b37f2922a295e9c8",
       "version_major": 2,
       "version_minor": 0
      },
      "text/plain": [
       "HBox(children=(IntProgress(value=0, max=90000), HTML(value='')))"
      ]
     },
     "metadata": {},
     "output_type": "display_data"
    },
    {
     "name": "stdout",
     "output_type": "stream",
     "text": [
      "iteration=      0 recon_loss=10.3470\n",
      "iteration=   5000 recon_loss=2.3568\n",
      "iteration=  10000 recon_loss=2.0828\n",
      "iteration=  15000 recon_loss=2.1157\n",
      "iteration=  20000 recon_loss=2.1205\n",
      "iteration=  25000 recon_loss=2.0486\n",
      "iteration=  30000 recon_loss=2.0523\n",
      "iteration=  35000 recon_loss=2.0467\n",
      "iteration=  40000 recon_loss=2.0251\n",
      "iteration=  45000 recon_loss=2.0127\n",
      "iteration=  50000 recon_loss=2.0239\n",
      "iteration=  55000 recon_loss=2.0199\n",
      "iteration=  60000 recon_loss=2.0445\n",
      "iteration=  65000 recon_loss=2.0306\n",
      "iteration=  70000 recon_loss=2.0282\n",
      "iteration=  75000 recon_loss=1.9961\n",
      "iteration=  80000 recon_loss=2.0593\n",
      "iteration=  85000 recon_loss=2.0370\n",
      "\n",
      "Results saved in folder:  2020-02-21_12-33-53\n",
      "\n",
      "Starting a Restricted Boltzmann Machine..\n",
      "Trained for 90000 iterations\n",
      "learning CD1\n"
     ]
    },
    {
     "data": {
      "application/vnd.jupyter.widget-view+json": {
       "model_id": "a2aeea02bf69451dab3bc68a37805bae",
       "version_major": 2,
       "version_minor": 0
      },
      "text/plain": [
       "HBox(children=(IntProgress(value=0, max=90000), HTML(value='')))"
      ]
     },
     "metadata": {},
     "output_type": "display_data"
    },
    {
     "name": "stdout",
     "output_type": "stream",
     "text": [
      "iteration=      0 recon_loss=6.9110\n",
      "iteration=   5000 recon_loss=2.2367\n",
      "iteration=  10000 recon_loss=2.0844\n",
      "iteration=  15000 recon_loss=2.0630\n",
      "iteration=  20000 recon_loss=2.0297\n",
      "iteration=  25000 recon_loss=2.0034\n",
      "iteration=  30000 recon_loss=2.0469\n",
      "iteration=  35000 recon_loss=2.0311\n",
      "iteration=  40000 recon_loss=1.9945\n",
      "iteration=  45000 recon_loss=2.0414\n",
      "iteration=  50000 recon_loss=1.9903\n",
      "iteration=  55000 recon_loss=1.9700\n",
      "iteration=  60000 recon_loss=2.0284\n",
      "iteration=  65000 recon_loss=1.9947\n",
      "iteration=  70000 recon_loss=2.0085\n",
      "iteration=  75000 recon_loss=1.9890\n",
      "iteration=  80000 recon_loss=1.9759\n",
      "iteration=  85000 recon_loss=2.0168\n",
      "\n"
     ]
    }
   ],
   "source": [
    "batch_size = 10\n",
    "ndims_hidden = np.arange(200, 501, 100)\n",
    "n_iterations = 6000\n",
    "for ndim_hidden in ndims_hidden:\n",
    "    exp_time = datetime.now().strftime('%Y-%m-%d_%H-%M-%S')\n",
    "    print(\"Results saved in folder: \",exp_time )\n",
    "    os.makedirs(exp_time)\n",
    "\n",
    "    print(\"\\nStarting a Restricted Boltzmann Machine..\")\n",
    "    # Changed from 10\n",
    "    rbm = RestrictedBoltzmannMachine(\n",
    "        ndim_visible=image_size[0] * image_size[1],\n",
    "        ndim_hidden=ndim_hidden,\n",
    "        is_bottom=True,\n",
    "        image_size=image_size,\n",
    "        is_top=False,\n",
    "        n_labels=10,\n",
    "        batch_size=batch_size,\n",
    "    )\n",
    "    # each epoch corresponds to a full swipe through a training set divided into mini-batches\n",
    "    print(\"Trained for {:d} iterations\".format(n_iterations))\n",
    "    rbm.cd1(visible_trainset=train_imgs, n_iterations=n_iterations, img_dir=exp_time)"
   ]
  },
  {
   "cell_type": "markdown",
   "metadata": {
    "heading_collapsed": true
   },
   "source": [
    "### Examinate Outcome\n"
   ]
  },
  {
   "cell_type": "code",
   "execution_count": null,
   "metadata": {
    "ExecuteTime": {
     "end_time": "2020-02-21T11:33:25.320555Z",
     "start_time": "2020-02-21T11:10:36.588Z"
    },
    "hidden": true
   },
   "outputs": [],
   "source": [
    "# Read Images \n",
    "img = mpimg.imread('rf.iter000000.png')  \n",
    "plt.imshow(img)"
   ]
  },
  {
   "cell_type": "code",
   "execution_count": null,
   "metadata": {
    "ExecuteTime": {
     "end_time": "2020-02-21T11:33:25.323964Z",
     "start_time": "2020-02-21T11:10:36.591Z"
    },
    "hidden": true
   },
   "outputs": [],
   "source": [
    "img = mpimg.imread('rf.iter040000.png')  \n",
    "plt.imshow(img)"
   ]
  },
  {
   "cell_type": "markdown",
   "metadata": {},
   "source": [
    "## deep- belief net"
   ]
  },
  {
   "cell_type": "markdown",
   "metadata": {},
   "source": [
    "<div class=\"alert alert-note\">\n",
    "<b>Task: </b> \n",
    "Implement a deep networ with greedy layer-wise pretraining\n",
    "   \n",
    "* extend the network to a \"deeper\" architecture\n",
    "* examine the generalisation performance\n",
    "* hidden layer of the last RBM are concatenated with the hidden layer \n",
    "* bi-directional connection layer is added to perform Gibbs sampling \n",
    "</div>"
   ]
  },
  {
   "cell_type": "markdown",
   "metadata": {},
   "source": [
    "<div class=\"alert alert-success\">\n",
    "<b>Two stack RBM</b>\n",
    "    \n",
    "* reconstruction losses \n",
    "\n",
    "\n",
    "</div>"
   ]
  },
  {
   "cell_type": "markdown",
   "metadata": {},
   "source": [
    "<div class=\"alert alert-danger\">\n",
    "<b>Questions</b> \n",
    "\n",
    "* Do we implement two seperate rbm classes? Or do we inizialize on and then build for two cd1\n",
    "* untwine_weights should we add initilize weights? \n",
    "* what is the difference between direct and not direct\n",
    "* how should we calculate the input of the second/third RBM\n",
    "</div>"
   ]
  },
  {
   "cell_type": "markdown",
   "metadata": {},
   "source": [
    "### Two stack RBM"
   ]
  },
  {
   "cell_type": "code",
   "execution_count": null,
   "metadata": {
    "ExecuteTime": {
     "end_time": "2020-02-21T11:33:25.327800Z",
     "start_time": "2020-02-21T11:10:37.194Z"
    }
   },
   "outputs": [],
   "source": [
    "print (\"\\nStarting a Deep Belief Net..\")\n",
    "    \n",
    "dbn = DeepBeliefNet(sizes={\"vis\":image_size[0]*image_size[1], \"hid\":500, \"pen\":500, \"top\":2000, \"lbl\":10},\n",
    "                    image_size=image_size,\n",
    "                    n_labels=10,\n",
    "                    batch_size=10\n",
    ")\n",
    "exp_time = datetime.now().strftime('%Y-%m-%d_%H-%M-%S')\n",
    "train_greedylayerwise(\n",
    "    self, \n",
    "    vis_trainset, \n",
    "    lbl_trainset, \n",
    "    n_iterations, \n",
    "    train_top_layer=False, \n",
    "    img_dir='two-stack/%s'%exp_time)"
   ]
  },
  {
   "cell_type": "markdown",
   "metadata": {},
   "source": [
    "## greedy layer-wise training"
   ]
  },
  {
   "cell_type": "code",
   "execution_count": null,
   "metadata": {
    "ExecuteTime": {
     "end_time": "2020-02-21T11:33:25.339684Z",
     "start_time": "2020-02-21T11:10:37.323Z"
    }
   },
   "outputs": [],
   "source": [
    "dbn.train_greedylayerwise(vis_trainset=train_imgs, lbl_trainset=train_lbls, n_iterations=2000)\n",
    "\n",
    "dbn.recognize(train_imgs, train_lbls)\n",
    "\n",
    "dbn.recognize(test_imgs, test_lbls)\n",
    "\n",
    "for digit in range(10):\n",
    "    digit_1hot = np.zeros(shape=(1,10))\n",
    "    digit_1hot[0,digit] = 1\n",
    "    dbn.generate(digit_1hot, name=\"rbms\")"
   ]
  },
  {
   "cell_type": "markdown",
   "metadata": {},
   "source": [
    "## fine-tune wake-sleep training"
   ]
  },
  {
   "cell_type": "code",
   "execution_count": null,
   "metadata": {
    "ExecuteTime": {
     "end_time": "2020-02-21T11:33:25.346324Z",
     "start_time": "2020-02-21T11:10:37.428Z"
    }
   },
   "outputs": [],
   "source": [
    "dbn.train_wakesleep_finetune(vis_trainset=train_imgs, lbl_trainset=train_lbls, n_iterations=2000)\n",
    "\n",
    "dbn.recognize(train_imgs, train_lbls)\n",
    "\n",
    "dbn.recognize(test_imgs, test_lbls)\n",
    "\n",
    "for digit in range(10):\n",
    "    digit_1hot = np.zeros(shape=(1,10))\n",
    "    digit_1hot[0,digit] = 1\n",
    "    dbn.generate(digit_1hot, name=\"dbn\")"
   ]
  },
  {
   "cell_type": "markdown",
   "metadata": {},
   "source": []
  },
  {
   "cell_type": "code",
   "execution_count": null,
   "metadata": {},
   "outputs": [],
   "source": []
  }
 ],
 "metadata": {
  "kernelspec": {
   "display_name": "Python 3",
   "language": "python",
   "name": "python3"
  },
  "language_info": {
   "codemirror_mode": {
    "name": "ipython",
    "version": 3
   },
   "file_extension": ".py",
   "mimetype": "text/x-python",
   "name": "python",
   "nbconvert_exporter": "python",
   "pygments_lexer": "ipython3",
   "version": "3.6.9"
  },
  "latex_envs": {
   "LaTeX_envs_menu_present": true,
   "autoclose": true,
   "autocomplete": true,
   "bibliofile": "biblio.bib",
   "cite_by": "apalike",
   "current_citInitial": 1,
   "eqLabelWithNumbers": true,
   "eqNumInitial": 1,
   "hotkeys": {
    "equation": "Ctrl-E",
    "itemize": "Ctrl-I"
   },
   "labels_anchors": false,
   "latex_user_defs": false,
   "report_style_numbering": false,
   "user_envs_cfg": false
  },
  "toc": {
   "base_numbering": 1,
   "nav_menu": {},
   "number_sections": true,
   "sideBar": true,
   "skip_h1_title": false,
   "title_cell": "Table of Contents",
   "title_sidebar": "Contents",
   "toc_cell": true,
   "toc_position": {},
   "toc_section_display": true,
   "toc_window_display": true
  }
 },
 "nbformat": 4,
 "nbformat_minor": 2
}

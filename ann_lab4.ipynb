{
 "cells": [
  {
   "cell_type": "markdown",
   "metadata": {
    "toc": true
   },
   "source": [
    "<h1>Table of Contents<span class=\"tocSkip\"></span></h1>\n",
    "<div class=\"toc\"><ul class=\"toc-item\"><li><span><a href=\"#restricted-boltzmann-machine\" data-toc-modified-id=\"restricted-boltzmann-machine-1\"><span class=\"toc-item-num\">1&nbsp;&nbsp;</span>restricted boltzmann machine</a></span></li><li><span><a href=\"#deep--belief-net\" data-toc-modified-id=\"deep--belief-net-2\"><span class=\"toc-item-num\">2&nbsp;&nbsp;</span>deep- belief net</a></span></li><li><span><a href=\"#greedy-layer-wise-training\" data-toc-modified-id=\"greedy-layer-wise-training-3\"><span class=\"toc-item-num\">3&nbsp;&nbsp;</span>greedy layer-wise training</a></span></li><li><span><a href=\"#fine-tune-wake-sleep-training\" data-toc-modified-id=\"fine-tune-wake-sleep-training-4\"><span class=\"toc-item-num\">4&nbsp;&nbsp;</span>fine-tune wake-sleep training</a></span></li></ul></div>"
   ]
  },
  {
   "cell_type": "markdown",
   "metadata": {},
   "source": [
    "**Imports**"
   ]
  },
  {
   "cell_type": "code",
   "execution_count": 1,
   "metadata": {},
   "outputs": [],
   "source": [
    "import struct\n",
    "import matplotlib.animation as animation\n",
    "\n",
    "from util import *\n",
    "from rbm import RestrictedBoltzmannMachine \n",
    "from dbn import DeepBeliefNet"
   ]
  },
  {
   "cell_type": "markdown",
   "metadata": {},
   "source": [
    "**Declare image-size and load dataset**"
   ]
  },
  {
   "cell_type": "code",
   "execution_count": 2,
   "metadata": {},
   "outputs": [],
   "source": [
    "image_size = [28,28]\n",
    "train_imgs,train_lbls,test_imgs,test_lbls = read_mnist(dim=image_size, n_train=60000, n_test=10000)"
   ]
  },
  {
   "cell_type": "code",
   "execution_count": 7,
   "metadata": {},
   "outputs": [
    {
     "name": "stdout",
     "output_type": "stream",
     "text": [
      "0.5\n"
     ]
    }
   ],
   "source": [
    "x = sigmoid(0)\n",
    "print(x)"
   ]
  },
  {
   "cell_type": "markdown",
   "metadata": {},
   "source": [
    "## restricted boltzmann machine"
   ]
  },
  {
   "cell_type": "code",
   "execution_count": null,
   "metadata": {},
   "outputs": [],
   "source": [
    "print (\"\\nStarting a Restricted Boltzmann Machine..\")\n",
    "\n",
    "rbm = RestrictedBoltzmannMachine(ndim_visible=image_size[0]*image_size[1],\n",
    "                                 ndim_hidden=200,\n",
    "                                 is_bottom=True,\n",
    "                                 image_size=image_size,\n",
    "                                 is_top=False,\n",
    "                                 n_labels=10,\n",
    "                                 batch_size=10\n",
    ")\n",
    "\n",
    "rbm.cd1(visible_trainset=train_imgs, n_iterations=10000)"
   ]
  },
  {
   "cell_type": "markdown",
   "metadata": {},
   "source": [
    "## deep- belief net"
   ]
  },
  {
   "cell_type": "code",
   "execution_count": null,
   "metadata": {},
   "outputs": [],
   "source": [
    "print (\"\\nStarting a Deep Belief Net..\")\n",
    "    \n",
    "dbn = DeepBeliefNet(sizes={\"vis\":image_size[0]*image_size[1], \"hid\":500, \"pen\":500, \"top\":2000, \"lbl\":10},\n",
    "                    image_size=image_size,\n",
    "                    n_labels=10,\n",
    "                    batch_size=10\n",
    ")"
   ]
  },
  {
   "cell_type": "markdown",
   "metadata": {},
   "source": [
    "## greedy layer-wise training"
   ]
  },
  {
   "cell_type": "code",
   "execution_count": null,
   "metadata": {},
   "outputs": [],
   "source": [
    "dbn.train_greedylayerwise(vis_trainset=train_imgs, lbl_trainset=train_lbls, n_iterations=2000)\n",
    "\n",
    "dbn.recognize(train_imgs, train_lbls)\n",
    "\n",
    "dbn.recognize(test_imgs, test_lbls)\n",
    "\n",
    "for digit in range(10):\n",
    "    digit_1hot = np.zeros(shape=(1,10))\n",
    "    digit_1hot[0,digit] = 1\n",
    "    dbn.generate(digit_1hot, name=\"rbms\")"
   ]
  },
  {
   "cell_type": "markdown",
   "metadata": {},
   "source": [
    "## fine-tune wake-sleep training"
   ]
  },
  {
   "cell_type": "code",
   "execution_count": null,
   "metadata": {},
   "outputs": [],
   "source": [
    "dbn.train_wakesleep_finetune(vis_trainset=train_imgs, lbl_trainset=train_lbls, n_iterations=2000)\n",
    "\n",
    "dbn.recognize(train_imgs, train_lbls)\n",
    "\n",
    "dbn.recognize(test_imgs, test_lbls)\n",
    "\n",
    "for digit in range(10):\n",
    "    digit_1hot = np.zeros(shape=(1,10))\n",
    "    digit_1hot[0,digit] = 1\n",
    "    dbn.generate(digit_1hot, name=\"dbn\")"
   ]
  },
  {
   "cell_type": "markdown",
   "metadata": {},
   "source": []
  },
  {
   "cell_type": "code",
   "execution_count": null,
   "metadata": {},
   "outputs": [],
   "source": []
  }
 ],
 "metadata": {
  "kernelspec": {
   "display_name": "Python 3",
   "language": "python",
   "name": "python3"
  },
  "language_info": {
   "codemirror_mode": {
    "name": "ipython",
    "version": 3
   },
   "file_extension": ".py",
   "mimetype": "text/x-python",
   "name": "python",
   "nbconvert_exporter": "python",
   "pygments_lexer": "ipython3",
   "version": "3.7.4"
  },
  "toc": {
   "base_numbering": 1,
   "nav_menu": {},
   "number_sections": true,
   "sideBar": true,
   "skip_h1_title": false,
   "title_cell": "Table of Contents",
   "title_sidebar": "Contents",
   "toc_cell": true,
   "toc_position": {},
   "toc_section_display": true,
   "toc_window_display": false
  }
 },
 "nbformat": 4,
 "nbformat_minor": 2
}
